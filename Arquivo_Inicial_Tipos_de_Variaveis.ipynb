{
  "cells": [
    {
      "cell_type": "markdown",
      "metadata": {
        "id": "view-in-github",
        "colab_type": "text"
      },
      "source": [
        "<a href=\"https://colab.research.google.com/github/ezioweb/python_curso/blob/main/Arquivo_Inicial_Tipos_de_Variaveis.ipynb\" target=\"_parent\"><img src=\"https://colab.research.google.com/assets/colab-badge.svg\" alt=\"Open In Colab\"/></a>"
      ]
    },
    {
      "cell_type": "code",
      "execution_count": null,
      "metadata": {
        "id": "zrWGYV2_KWbo",
        "outputId": "5ce531d3-5683-4ea2-dd08-2ceca518b952",
        "colab": {
          "base_uri": "https://localhost:8080/"
        }
      },
      "outputs": [
        {
          "output_type": "stream",
          "name": "stdout",
          "text": [
            "O faturamento da loja foi 1000 e o lucro foi 200 reais.\n"
          ]
        }
      ],
      "source": [
        "faturamento = 1000\n",
        "custo = 800\n",
        "lucro = (faturamento-custo)\n",
        "\n",
        "print('O faturamento da loja foi ' + str(faturamento) + ' e o lucro foi ' + str(lucro) + ' reais.')"
      ]
    }
  ],
  "metadata": {
    "kernelspec": {
      "display_name": "Python 3",
      "language": "python",
      "name": "python3"
    },
    "language_info": {
      "codemirror_mode": {
        "name": "ipython",
        "version": 3
      },
      "file_extension": ".py",
      "mimetype": "text/x-python",
      "name": "python",
      "nbconvert_exporter": "python",
      "pygments_lexer": "ipython3",
      "version": "3.8.3"
    },
    "colab": {
      "name": "Cópia de Arquivo Inicial - Tipos de Variaveis.ipynb",
      "provenance": [],
      "include_colab_link": true
    }
  },
  "nbformat": 4,
  "nbformat_minor": 0
}