{
  "cells": [
    {
      "cell_type": "markdown",
      "metadata": {
        "id": "view-in-github",
        "colab_type": "text"
      },
      "source": [
        "<a href=\"https://colab.research.google.com/github/ezioweb/python_curso/blob/main/Exerc%C3%ADcios_M%C3%B3dulo_1.ipynb\" target=\"_parent\"><img src=\"https://colab.research.google.com/assets/colab-badge.svg\" alt=\"Open In Colab\"/></a>"
      ]
    },
    {
      "cell_type": "markdown",
      "metadata": {
        "id": "1nXZuWgn_j3a"
      },
      "source": [
        "# Exercícios do Módulo 1 - Operações, Variáveis e Input"
      ]
    },
    {
      "cell_type": "markdown",
      "metadata": {
        "id": "-hYsM3U2_j3h"
      },
      "source": [
        "### Parte 1 - Operações e Variáveis\n",
        "Crie um programa que imprima (print) os principais indicadores da loja Hashtag&Drink no último ano.\n",
        "Obs: faça tudo usando variáveis.\n",
        "\n",
        "Valores do último ano:\n",
        "\n",
        "Quantidade de Vendas de Coca = 150<br>\n",
        "Quantidade de Vendas de Pepsi = 130<br>\n",
        "Preço Unitário da Coca = 1,50 <br>\n",
        "Preço Unitário da Pepsi = 1,50<br>\n",
        "Custo da Loja: 2.500,00\n",
        "\n",
        "Use o bloco abaixo para criar todas as variáveis que precisar."
      ]
    },
    {
      "cell_type": "code",
      "execution_count": null,
      "metadata": {
        "id": "GGKDByEy_j3i"
      },
      "outputs": [],
      "source": [
        "q_coca = 150\n",
        "q_pepsi = 130\n",
        "p_coca = 1.50\n",
        "p_pepsi = 1.50\n",
        "custo_l = 2500"
      ]
    },
    {
      "cell_type": "markdown",
      "metadata": {
        "id": "z7LGrZDR_j3k"
      },
      "source": [
        "1. Qual foi o faturamento de Pepsi da Loja?"
      ]
    },
    {
      "cell_type": "code",
      "execution_count": null,
      "metadata": {
        "colab": {
          "base_uri": "https://localhost:8080/"
        },
        "id": "6B2GIu22_j3l",
        "outputId": "6f62bff3-7b19-4d33-e86d-b778c3c93d05"
      },
      "outputs": [
        {
          "output_type": "stream",
          "name": "stdout",
          "text": [
            "195.0\n"
          ]
        }
      ],
      "source": [
        "print (q_pepsi * p_pepsi)"
      ]
    },
    {
      "cell_type": "markdown",
      "metadata": {
        "id": "_0LCvjx3_j3l"
      },
      "source": [
        "2. Qual foi o faturamento de Coca da Loja?"
      ]
    },
    {
      "cell_type": "code",
      "execution_count": null,
      "metadata": {
        "colab": {
          "base_uri": "https://localhost:8080/"
        },
        "id": "uAhk_z42_j3m",
        "outputId": "03df921c-878f-4dbb-b6a6-ede714ad8016"
      },
      "outputs": [
        {
          "output_type": "stream",
          "name": "stdout",
          "text": [
            "225.0\n"
          ]
        }
      ],
      "source": [
        "print (q_coca * p_coca)"
      ]
    },
    {
      "cell_type": "markdown",
      "metadata": {
        "id": "G6Hb4nhy_j3n"
      },
      "source": [
        "3. Qual foi o Lucro da loja?"
      ]
    },
    {
      "cell_type": "code",
      "execution_count": null,
      "metadata": {
        "colab": {
          "base_uri": "https://localhost:8080/"
        },
        "id": "QkXNvIXN_j3o",
        "outputId": "ac0d0a8d-da5e-4467-811d-3f06e518eada"
      },
      "outputs": [
        {
          "output_type": "stream",
          "name": "stdout",
          "text": [
            "-2080.0\n"
          ]
        }
      ],
      "source": [
        "print(q_pepsi * p_pepsi + q_coca * p_coca - custo_l)"
      ]
    },
    {
      "cell_type": "markdown",
      "metadata": {
        "id": "z_thneeC_j3p"
      },
      "source": [
        "4. Qual foi a Margem da Loja? (Lembre-se, margem = Lucro / Faturamento). Não precisa formatar em percentual"
      ]
    },
    {
      "cell_type": "code",
      "execution_count": null,
      "metadata": {
        "colab": {
          "base_uri": "https://localhost:8080/"
        },
        "id": "bj0elCgE_j3q",
        "outputId": "21626e75-b877-46c3-eaa7-5b83f3aa95d2"
      },
      "outputs": [
        {
          "output_type": "stream",
          "name": "stdout",
          "text": [
            "-4.9523809523809526\n"
          ]
        }
      ],
      "source": [
        "print ((q_pepsi * p_pepsi + q_coca * p_coca - custo_l)/(q_pepsi * p_pepsi + q_coca * p_coca))"
      ]
    },
    {
      "cell_type": "markdown",
      "metadata": {
        "id": "3siWA87v_j3q"
      },
      "source": [
        "### Parte 2 - Inputs e Strings"
      ]
    },
    {
      "cell_type": "markdown",
      "metadata": {
        "id": "iPuqndLt_j3r"
      },
      "source": [
        "A maioria das empresas trabalham com um Código para cada produto que possuem. A Hashtag&Drink, por exemplo, tem mais de 1.000 produtos e possui um código para cada produto.\n",
        "Ex: \n",
        "Coca -> Código: BEB1300543<br>\n",
        "Pepsi -> Código: BEB1300545<br>\n",
        "Vinho Primitivo Lucarelli -> Código: BAC1546001<br>\n",
        "Vodka Smirnoff -> Código: BAC17675002<br>\n",
        "\n",
        "Repare que todas as bebidas não alcóolicas tem o início do Código \"BEB\" e todas as bebidas alcóolicas tem o início do código \"BAC\".\n",
        "\n",
        "Crie um programa de consulta de bebida que, dado um código qualquer, identifique se a bebida é alcóolica. O programa deve responder True para bebidas alcóolicas e False para bebidas não alcóolicas. Para inserir um código, use um input.\n",
        "\n",
        "Dica: Lembre-se do comando in para strings e sempre insira os códigos com letra maiúscula para facilitar."
      ]
    },
    {
      "cell_type": "code",
      "execution_count": null,
      "metadata": {
        "id": "BbKwiHqd_j3s"
      },
      "outputs": [],
      "source": [
        "Coca = 'BEB1300543'\n",
        "Pepsi = 'BEB1300545'\n",
        "VinhoPrimitivoLucarelli = 'BAC1546001'\n",
        "VodkaSmirnoff = 'BAC17675002'\n"
      ]
    },
    {
      "cell_type": "code",
      "source": [
        "codigo = input ('Código')\n",
        "print ('BAC' in codigo)"
      ],
      "metadata": {
        "colab": {
          "base_uri": "https://localhost:8080/"
        },
        "id": "urcyJOhXCC-Y",
        "outputId": "4014580c-a08c-49bd-9d76-a2834924c2c2"
      },
      "execution_count": null,
      "outputs": [
        {
          "output_type": "stream",
          "name": "stdout",
          "text": [
            "CódigoBAC174664\n",
            "True\n"
          ]
        }
      ]
    }
  ],
  "metadata": {
    "kernelspec": {
      "display_name": "Python 3",
      "language": "python",
      "name": "python3"
    },
    "language_info": {
      "codemirror_mode": {
        "name": "ipython",
        "version": 3
      },
      "file_extension": ".py",
      "mimetype": "text/x-python",
      "name": "python",
      "nbconvert_exporter": "python",
      "pygments_lexer": "ipython3",
      "version": "3.8.3"
    },
    "colab": {
      "name": "Cópia de Exercícios Módulo 1.ipynb",
      "provenance": [],
      "collapsed_sections": [],
      "include_colab_link": true
    }
  },
  "nbformat": 4,
  "nbformat_minor": 0
}